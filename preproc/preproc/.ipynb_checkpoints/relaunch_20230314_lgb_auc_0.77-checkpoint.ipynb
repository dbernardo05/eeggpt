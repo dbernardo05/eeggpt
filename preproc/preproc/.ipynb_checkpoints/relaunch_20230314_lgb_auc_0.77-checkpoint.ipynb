{
 "cells": [
  {
   "cell_type": "code",
   "execution_count": 5,
   "metadata": {},
   "outputs": [],
   "source": [
    "# V0. operational\n",
    "# V1. add feature to allow export of EEG time locations that contain artifact.\n",
    "#         > first ARF is run, saves artifact locations into pd dataframe which contains, filename of data, \n",
    "#         > subsegment number of data, and artifact state\n"
   ]
  },
  {
   "cell_type": "code",
   "execution_count": 236,
   "metadata": {},
   "outputs": [
    {
     "data": {
      "text/html": [
       "<style>.container { width:100% !important; }</style>"
      ],
      "text/plain": [
       "<IPython.core.display.HTML object>"
      ]
     },
     "metadata": {},
     "output_type": "display_data"
    }
   ],
   "source": [
    "%matplotlib inline\n",
    "\n",
    "import pickle as pkl\n",
    "import fnmatch\n",
    "import h5py\n",
    "import matplotlib as mpl\n",
    "import matplotlib.pyplot as plt\n",
    "import mne\n",
    "import numpy as np\n",
    "import os\n",
    "import pandas as pd\n",
    "import random\n",
    "import sys\n",
    "from glob import glob\n",
    "from scipy import signal\n",
    "from scipy.stats import kurtosis\n",
    "from scipy.stats import skew\n",
    "from sklearn.preprocessing import scale\n",
    "\n",
    "import lightgbm as lgb\n",
    "\n",
    "import numpy as np\n",
    "\n",
    "from sklearn.model_selection import StratifiedKFold\n",
    "\n",
    "import seaborn as sns\n",
    "sns.set()\n",
    "\n",
    "from IPython.core.display import display, HTML\n",
    "display(HTML(\"<style>.container { width:100% !important; }</style>\"))\n",
    "\n",
    "from sklearn import metrics\n",
    "from sklearn.preprocessing import StandardScaler\n",
    "\n",
    "\n",
    "def get_cv(subjects):\n",
    "    cv = {}\n",
    "    \n",
    "    temp_fnames = []\n",
    "    temp_lbls = []\n",
    "    temp_anns = []\n",
    "    temp_idcs = []\n",
    "\n",
    "    for subject in subjects:\n",
    "        base = '../data/%s/%s_' % (str(subject).zfill(3), str(subject).zfill(3))\n",
    "        fnames = sorted(glob(base + '*.h5'),\n",
    "                        key=lambda x: int(x.replace(base, '')[:-7]))\n",
    "\n",
    "        fnames_finals = []\n",
    "        for fname in fnames:\n",
    "            ba = '../data/%s/' % (str(subject).zfill(3))\n",
    "            fn = fname.replace(ba, '')\n",
    "            fnames_finals.append(fn)\n",
    "        temp_fnames.extend(fnames_finals)\n",
    "\n",
    "        for fname in fnames_finals:\n",
    "            temp_lbls.append(int(fname.split('.')[0][-1]))\n",
    "            anns = int(fname.split('.')[0].split('_')[2])\n",
    "            #print fname.split('.')[0].split('_')[2]\n",
    "            temp_anns.append(anns)\n",
    "            temp_idcs.append(True)\n",
    "\n",
    "    cv['fnames'] = np.array(temp_fnames)\n",
    "    cv['labels'] = np.array(temp_lbls)\n",
    "    cv['anns'] = np.array(temp_anns)\n",
    "    cv['indices'] = np.array(temp_idcs)\n",
    "\n",
    "    #print cv\n",
    "    return cv"
   ]
  },
  {
   "cell_type": "code",
   "execution_count": 216,
   "metadata": {},
   "outputs": [
    {
     "name": "stdout",
     "output_type": "stream",
     "text": [
      "Feature: relative_log_power\n",
      "./features/relative_log_power/017.npz does not exist!\n",
      "./features/relative_log_power/021.npz does not exist!\n",
      "./features/relative_log_power/024.npz does not exist!\n",
      "./features/relative_log_power/027.npz does not exist!\n",
      "./features/relative_log_power/040.npz does not exist!\n",
      "\t: (160770, 126)\n",
      "1\n"
     ]
    }
   ],
   "source": [
    "\n",
    "subjects = np.array([1, 2, 3, 4])\n",
    "subjects = np.array([3])\n",
    "subjects = np.arange(1,64)\n",
    "# bad_subjects = np.array([17, 21])\n",
    "# subjects = np.setdiff1d(subjects,bad_subjects)\n",
    "\n",
    "subjects = sorted(subjects)\n",
    "\n",
    "\n",
    "# feature_datasets = ['relative_log_power', 'arError', 'stats', 'various']\n",
    "feature_datasets = ['arError', 'relative_log_power', 'stats']\n",
    "feature_datasets = ['autocorrmat']\n",
    "\n",
    "feature_datasets = ['relative_log_power']\n",
    "\n",
    "cv = get_cv(subjects)\n",
    "\n",
    "col_names = []\n",
    "features = []\n",
    "\n",
    "for jj, feat in enumerate(feature_datasets):    \n",
    "    print(f\"Feature: {feat}\")\n",
    "    temp_features = []\n",
    "    subjs = []\n",
    "    for subject in subjects:\n",
    "        s_file = './features/%s/%s.npz' % (feat, str(subject).zfill(3))\n",
    "        if not os.path.exists(s_file):\n",
    "            print(f\"{s_file} does not exist!\")\n",
    "            continue\n",
    "        a = np.load(s_file)\n",
    "        arr = a['features']\n",
    "        temp_features.append(arr)\n",
    "        subjs.extend([subject]*(arr.shape[0]*arr.shape[1]))\n",
    "\n",
    "    if dataset == 'coherences_transposed':\n",
    "        # Broken\n",
    "        print('\\t:', temp_features.shape)\n",
    "    elif dataset == 'autocorrmat':\n",
    "        # Broken\n",
    "        print('\\t:', temp_features.shape)\n",
    "    elif dataset == 'stats':\n",
    "        # e.g. stats: (70, 30, 21, 6)\n",
    "        #        (time, 30 twenty second windows = 10 min, 21 channels, 6 stats.)\n",
    "        temp_features = np.vstack(temp_features)\n",
    "        # Reshape to (180*30, new_shape)\n",
    "        flat_shape = (temp_features.shape[2] * temp_features.shape[3], )\n",
    "        temp_features = temp_features.reshape((-1, *flat_shape))\n",
    "        print('\\t:', temp_features.shape)\n",
    "    elif dataset == 'relative_log_power':\n",
    "        # e.g. shape already flattened. e.g. (70, 30, 21*6)\n",
    "        print('\\t:', temp_features.shape)\n",
    "\n",
    "    features.append(temp_features)\n",
    "    \n",
    "    col_names.extend([f'feat_{i}' for i in range(temp_features.shape[1])])\n",
    "\n",
    "# features = np.vstack(features)\n",
    "\n",
    "print(len(features))\n"
   ]
  },
  {
   "cell_type": "code",
   "execution_count": 217,
   "metadata": {},
   "outputs": [
    {
     "name": "stdout",
     "output_type": "stream",
     "text": [
      "[ 1  3  4  5  6  7  8  9 10 11 12 13 14 15 16 18 19 20 22 23 25 26 28 29\n",
      " 30 31 32 33 34 35 36 37 38 39 41 42 43 44 45 46 47 48 49 50 51 52 53 54\n",
      " 55 56 57 58 59 60 61 62 63]\n",
      "[ 1  3  4  5  6  7  8  9 10 11 12 13 14 15 16 18 19 20 22 23 25 26 28 29\n",
      " 30 31 32 33 34 35 36 37 38 39 41 42 43 44 45 46 47 48 49 50 51 52 53 54\n",
      " 55 56 57 58 59 60 61 63]\n"
     ]
    }
   ],
   "source": [
    "print(df_train['Subject'].unique())\n",
    "print(np.sort(df_all['Subject'].unique()))"
   ]
  },
  {
   "cell_type": "code",
   "execution_count": 221,
   "metadata": {},
   "outputs": [],
   "source": [
    "\n",
    "df_train = pd.DataFrame(np.hstack(features), columns=col_names)\n",
    "df_train['Subject'] = np.array(subjs)\n",
    "df_train['Subject'] = df_train['Subject'].astype('int')\n",
    "df_train = df_train.drop(df_train[df_train['Subject']==2].index)\n",
    "df_train = df_train.drop(df_train[df_train['Subject']==62].index)"
   ]
  },
  {
   "cell_type": "code",
   "execution_count": 222,
   "metadata": {},
   "outputs": [],
   "source": [
    "df = pd.read_csv('data/SPQR_clinFeats_20190419.csv')\n",
    "df = df.rename({'Unnamed: 0': 'Subject', 'Latency (NR)':'Latency - NR'}, axis='columns')\n",
    "\n",
    "df_resp = df.copy()\n",
    "df_resp = df_resp[['Subject', 'Class', 'Age(resp)', 'Latency - R']]\n",
    "df_resp = df_resp[df_resp['Class'] == 0.]\n",
    "df_resp = df_resp.rename({'Latency - R':'Latency', 'Age(resp)': 'Age'}, axis='columns')\n",
    "df_nresp = df.copy()\n",
    "df_nresp = df_nresp[['Subject', 'Class', 'Age(non-resp)', 'Latency - NR']]\n",
    "df_nresp = df_nresp[df_nresp['Class'] ==1.]\n",
    "df_nresp = df_nresp.rename({'Latency - NR':'Latency', 'Age(non-resp)': 'Age'}, axis='columns')\n",
    "\n",
    "df_all = pd.concat([df_resp, df_nresp])\n",
    "df_all['Subject'] = df_all['Subject'].str.split('_').apply(lambda x:x[0]).astype('int')\n",
    "\n",
    "df_all = df_all.drop(df_all[df_all['Subject']==65].index)"
   ]
  },
  {
   "cell_type": "code",
   "execution_count": 223,
   "metadata": {},
   "outputs": [
    {
     "name": "stdout",
     "output_type": "stream",
     "text": [
      "[ 1  3  4  5  6  7  8  9 10 11 12 13 14 15 16 18 19 20 22 23 25 26 28 29\n",
      " 30 31 32 33 34 35 36 37 38 39 41 42 43 44 45 46 47 48 49 50 51 52 53 54\n",
      " 55 56 57 58 59 60 61 63]\n",
      "[ 1  3  4  5  6  7  8  9 10 11 12 13 14 15 16 18 19 20 22 23 25 26 28 29\n",
      " 30 31 32 33 34 35 36 37 38 39 41 42 43 44 45 46 47 48 49 50 51 52 53 54\n",
      " 55 56 57 58 59 60 61 63]\n"
     ]
    }
   ],
   "source": [
    "print(df_train['Subject'].unique())\n",
    "print(np.sort(df_all['Subject'].unique()))"
   ]
  },
  {
   "cell_type": "code",
   "execution_count": 226,
   "metadata": {},
   "outputs": [],
   "source": [
    "merged_df = pd.merge(df_train, df_all, on='Subject', how='left')\n",
    "merged_df['Class'] = merged_df['Class'].astype('int')\n"
   ]
  },
  {
   "cell_type": "code",
   "execution_count": 228,
   "metadata": {},
   "outputs": [
    {
     "data": {
      "text/html": [
       "<div>\n",
       "<style scoped>\n",
       "    .dataframe tbody tr th:only-of-type {\n",
       "        vertical-align: middle;\n",
       "    }\n",
       "\n",
       "    .dataframe tbody tr th {\n",
       "        vertical-align: top;\n",
       "    }\n",
       "\n",
       "    .dataframe thead th {\n",
       "        text-align: right;\n",
       "    }\n",
       "</style>\n",
       "<table border=\"1\" class=\"dataframe\">\n",
       "  <thead>\n",
       "    <tr style=\"text-align: right;\">\n",
       "      <th></th>\n",
       "      <th>feat_0</th>\n",
       "      <th>feat_1</th>\n",
       "      <th>feat_2</th>\n",
       "      <th>feat_3</th>\n",
       "      <th>feat_4</th>\n",
       "      <th>feat_5</th>\n",
       "      <th>feat_6</th>\n",
       "      <th>feat_7</th>\n",
       "      <th>feat_8</th>\n",
       "      <th>feat_9</th>\n",
       "      <th>...</th>\n",
       "      <th>feat_120</th>\n",
       "      <th>feat_121</th>\n",
       "      <th>feat_122</th>\n",
       "      <th>feat_123</th>\n",
       "      <th>feat_124</th>\n",
       "      <th>feat_125</th>\n",
       "      <th>Subject</th>\n",
       "      <th>Class</th>\n",
       "      <th>Age</th>\n",
       "      <th>Latency</th>\n",
       "    </tr>\n",
       "  </thead>\n",
       "  <tbody>\n",
       "    <tr>\n",
       "      <th>0</th>\n",
       "      <td>-0.069747</td>\n",
       "      <td>-2.756834</td>\n",
       "      <td>-5.925305</td>\n",
       "      <td>-7.486396</td>\n",
       "      <td>-7.585225</td>\n",
       "      <td>-8.889185</td>\n",
       "      <td>-0.058344</td>\n",
       "      <td>-2.955631</td>\n",
       "      <td>-5.717124</td>\n",
       "      <td>-7.123614</td>\n",
       "      <td>...</td>\n",
       "      <td>-0.075192</td>\n",
       "      <td>-2.889628</td>\n",
       "      <td>-4.976953</td>\n",
       "      <td>-5.534080</td>\n",
       "      <td>-5.340767</td>\n",
       "      <td>-6.724956</td>\n",
       "      <td>1</td>\n",
       "      <td>1</td>\n",
       "      <td>121.0</td>\n",
       "      <td>90.0</td>\n",
       "    </tr>\n",
       "    <tr>\n",
       "      <th>1</th>\n",
       "      <td>-0.042348</td>\n",
       "      <td>-3.383583</td>\n",
       "      <td>-5.336387</td>\n",
       "      <td>-6.672129</td>\n",
       "      <td>-6.770278</td>\n",
       "      <td>-8.073635</td>\n",
       "      <td>-0.025131</td>\n",
       "      <td>-4.001978</td>\n",
       "      <td>-5.697913</td>\n",
       "      <td>-6.411381</td>\n",
       "      <td>...</td>\n",
       "      <td>-0.036017</td>\n",
       "      <td>-3.665043</td>\n",
       "      <td>-5.388309</td>\n",
       "      <td>-6.333202</td>\n",
       "      <td>-5.928694</td>\n",
       "      <td>-7.175829</td>\n",
       "      <td>1</td>\n",
       "      <td>1</td>\n",
       "      <td>121.0</td>\n",
       "      <td>90.0</td>\n",
       "    </tr>\n",
       "    <tr>\n",
       "      <th>2</th>\n",
       "      <td>-0.028787</td>\n",
       "      <td>-3.712127</td>\n",
       "      <td>-5.806440</td>\n",
       "      <td>-7.578851</td>\n",
       "      <td>-8.024165</td>\n",
       "      <td>-9.168384</td>\n",
       "      <td>-0.024983</td>\n",
       "      <td>-3.891561</td>\n",
       "      <td>-5.774318</td>\n",
       "      <td>-7.221215</td>\n",
       "      <td>...</td>\n",
       "      <td>-0.079848</td>\n",
       "      <td>-2.844602</td>\n",
       "      <td>-4.672150</td>\n",
       "      <td>-5.613568</td>\n",
       "      <td>-5.429692</td>\n",
       "      <td>-6.724232</td>\n",
       "      <td>1</td>\n",
       "      <td>1</td>\n",
       "      <td>121.0</td>\n",
       "      <td>90.0</td>\n",
       "    </tr>\n",
       "    <tr>\n",
       "      <th>3</th>\n",
       "      <td>-0.034547</td>\n",
       "      <td>-3.551221</td>\n",
       "      <td>-5.464501</td>\n",
       "      <td>-7.413234</td>\n",
       "      <td>-7.991800</td>\n",
       "      <td>-9.296957</td>\n",
       "      <td>-0.028459</td>\n",
       "      <td>-3.725652</td>\n",
       "      <td>-5.773781</td>\n",
       "      <td>-7.613391</td>\n",
       "      <td>...</td>\n",
       "      <td>-0.053198</td>\n",
       "      <td>-3.300753</td>\n",
       "      <td>-4.787336</td>\n",
       "      <td>-5.827040</td>\n",
       "      <td>-5.818351</td>\n",
       "      <td>-7.266648</td>\n",
       "      <td>1</td>\n",
       "      <td>1</td>\n",
       "      <td>121.0</td>\n",
       "      <td>90.0</td>\n",
       "    </tr>\n",
       "    <tr>\n",
       "      <th>4</th>\n",
       "      <td>-0.046234</td>\n",
       "      <td>-3.224350</td>\n",
       "      <td>-5.534562</td>\n",
       "      <td>-7.129829</td>\n",
       "      <td>-7.580263</td>\n",
       "      <td>-8.868082</td>\n",
       "      <td>-0.064492</td>\n",
       "      <td>-2.932575</td>\n",
       "      <td>-4.867838</td>\n",
       "      <td>-6.944961</td>\n",
       "      <td>...</td>\n",
       "      <td>-0.105239</td>\n",
       "      <td>-2.520528</td>\n",
       "      <td>-4.503787</td>\n",
       "      <td>-5.514083</td>\n",
       "      <td>-5.654872</td>\n",
       "      <td>-7.039553</td>\n",
       "      <td>1</td>\n",
       "      <td>1</td>\n",
       "      <td>121.0</td>\n",
       "      <td>90.0</td>\n",
       "    </tr>\n",
       "    <tr>\n",
       "      <th>...</th>\n",
       "      <td>...</td>\n",
       "      <td>...</td>\n",
       "      <td>...</td>\n",
       "      <td>...</td>\n",
       "      <td>...</td>\n",
       "      <td>...</td>\n",
       "      <td>...</td>\n",
       "      <td>...</td>\n",
       "      <td>...</td>\n",
       "      <td>...</td>\n",
       "      <td>...</td>\n",
       "      <td>...</td>\n",
       "      <td>...</td>\n",
       "      <td>...</td>\n",
       "      <td>...</td>\n",
       "      <td>...</td>\n",
       "      <td>...</td>\n",
       "      <td>...</td>\n",
       "      <td>...</td>\n",
       "      <td>...</td>\n",
       "      <td>...</td>\n",
       "    </tr>\n",
       "    <tr>\n",
       "      <th>155815</th>\n",
       "      <td>-0.030177</td>\n",
       "      <td>-3.764529</td>\n",
       "      <td>-5.595512</td>\n",
       "      <td>-6.825561</td>\n",
       "      <td>-6.661449</td>\n",
       "      <td>-7.665735</td>\n",
       "      <td>-0.020226</td>\n",
       "      <td>-4.203981</td>\n",
       "      <td>-5.963248</td>\n",
       "      <td>-7.073823</td>\n",
       "      <td>...</td>\n",
       "      <td>-0.034950</td>\n",
       "      <td>-3.673848</td>\n",
       "      <td>-6.019912</td>\n",
       "      <td>-6.724752</td>\n",
       "      <td>-5.594916</td>\n",
       "      <td>-6.425125</td>\n",
       "      <td>63</td>\n",
       "      <td>1</td>\n",
       "      <td>58.0</td>\n",
       "      <td>50.0</td>\n",
       "    </tr>\n",
       "    <tr>\n",
       "      <th>155816</th>\n",
       "      <td>-0.019643</td>\n",
       "      <td>-4.145375</td>\n",
       "      <td>-6.372389</td>\n",
       "      <td>-7.198959</td>\n",
       "      <td>-7.081238</td>\n",
       "      <td>-8.054589</td>\n",
       "      <td>-0.012078</td>\n",
       "      <td>-4.619769</td>\n",
       "      <td>-6.890560</td>\n",
       "      <td>-7.731543</td>\n",
       "      <td>...</td>\n",
       "      <td>-0.037772</td>\n",
       "      <td>-3.464625</td>\n",
       "      <td>-6.199026</td>\n",
       "      <td>-6.972684</td>\n",
       "      <td>-6.279475</td>\n",
       "      <td>-6.969690</td>\n",
       "      <td>63</td>\n",
       "      <td>1</td>\n",
       "      <td>58.0</td>\n",
       "      <td>50.0</td>\n",
       "    </tr>\n",
       "    <tr>\n",
       "      <th>155817</th>\n",
       "      <td>-0.019171</td>\n",
       "      <td>-4.089458</td>\n",
       "      <td>-6.743779</td>\n",
       "      <td>-7.795493</td>\n",
       "      <td>-7.648850</td>\n",
       "      <td>-8.659792</td>\n",
       "      <td>-0.007710</td>\n",
       "      <td>-5.027249</td>\n",
       "      <td>-7.379429</td>\n",
       "      <td>-8.506369</td>\n",
       "      <td>...</td>\n",
       "      <td>-0.075353</td>\n",
       "      <td>-2.928918</td>\n",
       "      <td>-4.616780</td>\n",
       "      <td>-5.787125</td>\n",
       "      <td>-5.457175</td>\n",
       "      <td>-6.259527</td>\n",
       "      <td>63</td>\n",
       "      <td>1</td>\n",
       "      <td>58.0</td>\n",
       "      <td>50.0</td>\n",
       "    </tr>\n",
       "    <tr>\n",
       "      <th>155818</th>\n",
       "      <td>-0.062148</td>\n",
       "      <td>-3.165592</td>\n",
       "      <td>-4.637669</td>\n",
       "      <td>-5.594516</td>\n",
       "      <td>-5.669434</td>\n",
       "      <td>-6.709744</td>\n",
       "      <td>-0.063459</td>\n",
       "      <td>-3.144591</td>\n",
       "      <td>-4.691957</td>\n",
       "      <td>-5.605406</td>\n",
       "      <td>...</td>\n",
       "      <td>-0.033209</td>\n",
       "      <td>-3.836353</td>\n",
       "      <td>-5.752158</td>\n",
       "      <td>-6.408447</td>\n",
       "      <td>-5.425475</td>\n",
       "      <td>-6.284406</td>\n",
       "      <td>63</td>\n",
       "      <td>1</td>\n",
       "      <td>58.0</td>\n",
       "      <td>50.0</td>\n",
       "    </tr>\n",
       "    <tr>\n",
       "      <th>155819</th>\n",
       "      <td>-0.145597</td>\n",
       "      <td>-2.256021</td>\n",
       "      <td>-3.833296</td>\n",
       "      <td>-5.552433</td>\n",
       "      <td>-5.579120</td>\n",
       "      <td>-6.546365</td>\n",
       "      <td>-0.132605</td>\n",
       "      <td>-2.347155</td>\n",
       "      <td>-3.955146</td>\n",
       "      <td>-5.489436</td>\n",
       "      <td>...</td>\n",
       "      <td>-0.073206</td>\n",
       "      <td>-3.105155</td>\n",
       "      <td>-5.233762</td>\n",
       "      <td>-5.247946</td>\n",
       "      <td>-4.497911</td>\n",
       "      <td>-5.509277</td>\n",
       "      <td>63</td>\n",
       "      <td>1</td>\n",
       "      <td>58.0</td>\n",
       "      <td>50.0</td>\n",
       "    </tr>\n",
       "  </tbody>\n",
       "</table>\n",
       "<p>155820 rows × 130 columns</p>\n",
       "</div>"
      ],
      "text/plain": [
       "          feat_0    feat_1    feat_2    feat_3    feat_4    feat_5    feat_6  \\\n",
       "0      -0.069747 -2.756834 -5.925305 -7.486396 -7.585225 -8.889185 -0.058344   \n",
       "1      -0.042348 -3.383583 -5.336387 -6.672129 -6.770278 -8.073635 -0.025131   \n",
       "2      -0.028787 -3.712127 -5.806440 -7.578851 -8.024165 -9.168384 -0.024983   \n",
       "3      -0.034547 -3.551221 -5.464501 -7.413234 -7.991800 -9.296957 -0.028459   \n",
       "4      -0.046234 -3.224350 -5.534562 -7.129829 -7.580263 -8.868082 -0.064492   \n",
       "...          ...       ...       ...       ...       ...       ...       ...   \n",
       "155815 -0.030177 -3.764529 -5.595512 -6.825561 -6.661449 -7.665735 -0.020226   \n",
       "155816 -0.019643 -4.145375 -6.372389 -7.198959 -7.081238 -8.054589 -0.012078   \n",
       "155817 -0.019171 -4.089458 -6.743779 -7.795493 -7.648850 -8.659792 -0.007710   \n",
       "155818 -0.062148 -3.165592 -4.637669 -5.594516 -5.669434 -6.709744 -0.063459   \n",
       "155819 -0.145597 -2.256021 -3.833296 -5.552433 -5.579120 -6.546365 -0.132605   \n",
       "\n",
       "          feat_7    feat_8    feat_9  ...  feat_120  feat_121  feat_122  \\\n",
       "0      -2.955631 -5.717124 -7.123614  ... -0.075192 -2.889628 -4.976953   \n",
       "1      -4.001978 -5.697913 -6.411381  ... -0.036017 -3.665043 -5.388309   \n",
       "2      -3.891561 -5.774318 -7.221215  ... -0.079848 -2.844602 -4.672150   \n",
       "3      -3.725652 -5.773781 -7.613391  ... -0.053198 -3.300753 -4.787336   \n",
       "4      -2.932575 -4.867838 -6.944961  ... -0.105239 -2.520528 -4.503787   \n",
       "...          ...       ...       ...  ...       ...       ...       ...   \n",
       "155815 -4.203981 -5.963248 -7.073823  ... -0.034950 -3.673848 -6.019912   \n",
       "155816 -4.619769 -6.890560 -7.731543  ... -0.037772 -3.464625 -6.199026   \n",
       "155817 -5.027249 -7.379429 -8.506369  ... -0.075353 -2.928918 -4.616780   \n",
       "155818 -3.144591 -4.691957 -5.605406  ... -0.033209 -3.836353 -5.752158   \n",
       "155819 -2.347155 -3.955146 -5.489436  ... -0.073206 -3.105155 -5.233762   \n",
       "\n",
       "        feat_123  feat_124  feat_125  Subject  Class    Age  Latency  \n",
       "0      -5.534080 -5.340767 -6.724956        1      1  121.0     90.0  \n",
       "1      -6.333202 -5.928694 -7.175829        1      1  121.0     90.0  \n",
       "2      -5.613568 -5.429692 -6.724232        1      1  121.0     90.0  \n",
       "3      -5.827040 -5.818351 -7.266648        1      1  121.0     90.0  \n",
       "4      -5.514083 -5.654872 -7.039553        1      1  121.0     90.0  \n",
       "...          ...       ...       ...      ...    ...    ...      ...  \n",
       "155815 -6.724752 -5.594916 -6.425125       63      1   58.0     50.0  \n",
       "155816 -6.972684 -6.279475 -6.969690       63      1   58.0     50.0  \n",
       "155817 -5.787125 -5.457175 -6.259527       63      1   58.0     50.0  \n",
       "155818 -6.408447 -5.425475 -6.284406       63      1   58.0     50.0  \n",
       "155819 -5.247946 -4.497911 -5.509277       63      1   58.0     50.0  \n",
       "\n",
       "[155820 rows x 130 columns]"
      ]
     },
     "execution_count": 228,
     "metadata": {},
     "output_type": "execute_result"
    }
   ],
   "source": [
    "train_data_df"
   ]
  },
  {
   "cell_type": "code",
   "execution_count": 272,
   "metadata": {},
   "outputs": [],
   "source": [
    "train_data_df = merged_df.copy()\n",
    "train_data_df = train_data_df.drop(['Class'], axis=1)\n",
    "train_ann_df = merged_df[['Subject','Class']]"
   ]
  },
  {
   "cell_type": "code",
   "execution_count": 252,
   "metadata": {},
   "outputs": [],
   "source": [
    "# LightGBM parameters\n",
    "params = {\n",
    "    'task':'train',\n",
    "    'boosting_type': 'gbdt',\n",
    "    'objective': 'binary',\n",
    "    'metric': {'binary_logloss', 'auc'},\n",
    "    'num_leaves': 31,\n",
    "    'learning_rate': 0.05,\n",
    "    'feature_fraction': 0.9,\n",
    "    'bagging_fraction': 0.8,\n",
    "    'bagging_freq': 5,\n",
    "    'verbose': 1\n",
    "}"
   ]
  },
  {
   "cell_type": "code",
   "execution_count": 253,
   "metadata": {},
   "outputs": [],
   "source": [
    "train_data_df = train_data_df[['Age', 'Latency', 'Subject']]"
   ]
  },
  {
   "cell_type": "code",
   "execution_count": 268,
   "metadata": {},
   "outputs": [],
   "source": [
    "unique_subjects = train_data_df[\"Subject\"].unique()\n",
    "subj_classes= df_all.loc[train_data_df['Subject'].isin(unique_subjects), 'Class']"
   ]
  },
  {
   "cell_type": "code",
   "execution_count": null,
   "metadata": {},
   "outputs": [],
   "source": []
  },
  {
   "cell_type": "code",
   "execution_count": 283,
   "metadata": {
    "scrolled": false
   },
   "outputs": [
    {
     "name": "stdout",
     "output_type": "stream",
     "text": [
      "Fold 1 / 10\n"
     ]
    },
    {
     "name": "stderr",
     "output_type": "stream",
     "text": [
      "/home/dbernardo/.pyenv/versions/3.8.3/envs/eegres383/lib/python3.8/site-packages/lightgbm/engine.py:239: UserWarning: 'verbose_eval' argument is deprecated and will be removed in a future release of LightGBM. Pass 'log_evaluation()' callback via 'callbacks' argument instead.\n",
      "  _log_warning(\"'verbose_eval' argument is deprecated and will be removed in a future release of LightGBM. \"\n",
      "/home/dbernardo/.pyenv/versions/3.8.3/envs/eegres383/lib/python3.8/site-packages/lightgbm/engine.py:260: UserWarning: 'evals_result' argument is deprecated and will be removed in a future release of LightGBM. Pass 'record_evaluation()' callback via 'callbacks' argument instead.\n",
      "  _log_warning(\"'evals_result' argument is deprecated and will be removed in a future release of LightGBM. \"\n"
     ]
    },
    {
     "name": "stdout",
     "output_type": "stream",
     "text": [
      "[LightGBM] [Info] Number of positive: 65400, number of negative: 74820\n",
      "[LightGBM] [Warning] Auto-choosing col-wise multi-threading, the overhead of testing was 0.222186 seconds.\n",
      "You can set `force_col_wise=true` to remove the overhead.\n",
      "[LightGBM] [Info] Total Bins 32214\n",
      "[LightGBM] [Info] Number of data points in the train set: 140220, number of used features: 128\n",
      "[LightGBM] [Info] [binary:BoostFromScore]: pavg=0.466410 -> initscore=-0.134563\n",
      "[LightGBM] [Info] Start training from score -0.134563\n",
      "[100]\tvalid's binary_logloss: 0.524496\tvalid's auc: 1\n",
      "Fold 2 / 10\n"
     ]
    },
    {
     "name": "stderr",
     "output_type": "stream",
     "text": [
      "/home/dbernardo/.pyenv/versions/3.8.3/envs/eegres383/lib/python3.8/site-packages/lightgbm/engine.py:239: UserWarning: 'verbose_eval' argument is deprecated and will be removed in a future release of LightGBM. Pass 'log_evaluation()' callback via 'callbacks' argument instead.\n",
      "  _log_warning(\"'verbose_eval' argument is deprecated and will be removed in a future release of LightGBM. \"\n",
      "/home/dbernardo/.pyenv/versions/3.8.3/envs/eegres383/lib/python3.8/site-packages/lightgbm/engine.py:260: UserWarning: 'evals_result' argument is deprecated and will be removed in a future release of LightGBM. Pass 'record_evaluation()' callback via 'callbacks' argument instead.\n",
      "  _log_warning(\"'evals_result' argument is deprecated and will be removed in a future release of LightGBM. \"\n"
     ]
    },
    {
     "name": "stdout",
     "output_type": "stream",
     "text": [
      "[LightGBM] [Info] Number of positive: 66030, number of negative: 73470\n",
      "[LightGBM] [Warning] Auto-choosing col-wise multi-threading, the overhead of testing was 0.229930 seconds.\n",
      "You can set `force_col_wise=true` to remove the overhead.\n",
      "[LightGBM] [Info] Total Bins 32214\n",
      "[LightGBM] [Info] Number of data points in the train set: 139500, number of used features: 128\n",
      "[LightGBM] [Info] [binary:BoostFromScore]: pavg=0.473333 -> initscore=-0.106768\n",
      "[LightGBM] [Info] Start training from score -0.106768\n",
      "[100]\tvalid's binary_logloss: 2.13239\tvalid's auc: 0.774222\n",
      "Fold 3 / 10\n"
     ]
    },
    {
     "name": "stderr",
     "output_type": "stream",
     "text": [
      "/home/dbernardo/.pyenv/versions/3.8.3/envs/eegres383/lib/python3.8/site-packages/lightgbm/engine.py:239: UserWarning: 'verbose_eval' argument is deprecated and will be removed in a future release of LightGBM. Pass 'log_evaluation()' callback via 'callbacks' argument instead.\n",
      "  _log_warning(\"'verbose_eval' argument is deprecated and will be removed in a future release of LightGBM. \"\n",
      "/home/dbernardo/.pyenv/versions/3.8.3/envs/eegres383/lib/python3.8/site-packages/lightgbm/engine.py:260: UserWarning: 'evals_result' argument is deprecated and will be removed in a future release of LightGBM. Pass 'record_evaluation()' callback via 'callbacks' argument instead.\n",
      "  _log_warning(\"'evals_result' argument is deprecated and will be removed in a future release of LightGBM. \"\n"
     ]
    },
    {
     "name": "stdout",
     "output_type": "stream",
     "text": [
      "[LightGBM] [Info] Number of positive: 60990, number of negative: 76260\n",
      "[LightGBM] [Warning] Auto-choosing col-wise multi-threading, the overhead of testing was 0.208309 seconds.\n",
      "You can set `force_col_wise=true` to remove the overhead.\n",
      "[LightGBM] [Info] Total Bins 32212\n",
      "[LightGBM] [Info] Number of data points in the train set: 137250, number of used features: 128\n",
      "[LightGBM] [Info] [binary:BoostFromScore]: pavg=0.444372 -> initscore=-0.223439\n",
      "[LightGBM] [Info] Start training from score -0.223439\n",
      "[100]\tvalid's binary_logloss: 0.804616\tvalid's auc: 0.959201\n",
      "Fold 4 / 10\n"
     ]
    },
    {
     "name": "stderr",
     "output_type": "stream",
     "text": [
      "/home/dbernardo/.pyenv/versions/3.8.3/envs/eegres383/lib/python3.8/site-packages/lightgbm/engine.py:239: UserWarning: 'verbose_eval' argument is deprecated and will be removed in a future release of LightGBM. Pass 'log_evaluation()' callback via 'callbacks' argument instead.\n",
      "  _log_warning(\"'verbose_eval' argument is deprecated and will be removed in a future release of LightGBM. \"\n",
      "/home/dbernardo/.pyenv/versions/3.8.3/envs/eegres383/lib/python3.8/site-packages/lightgbm/engine.py:260: UserWarning: 'evals_result' argument is deprecated and will be removed in a future release of LightGBM. Pass 'record_evaluation()' callback via 'callbacks' argument instead.\n",
      "  _log_warning(\"'evals_result' argument is deprecated and will be removed in a future release of LightGBM. \"\n"
     ]
    },
    {
     "name": "stdout",
     "output_type": "stream",
     "text": [
      "[LightGBM] [Info] Number of positive: 66450, number of negative: 72450\n",
      "[LightGBM] [Warning] Auto-choosing col-wise multi-threading, the overhead of testing was 0.219118 seconds.\n",
      "You can set `force_col_wise=true` to remove the overhead.\n",
      "[LightGBM] [Info] Total Bins 32208\n",
      "[LightGBM] [Info] Number of data points in the train set: 138900, number of used features: 128\n",
      "[LightGBM] [Info] [binary:BoostFromScore]: pavg=0.478402 -> initscore=-0.086447\n",
      "[LightGBM] [Info] Start training from score -0.086447\n",
      "[100]\tvalid's binary_logloss: 1.53542\tvalid's auc: 0.674451\n",
      "Fold 5 / 10\n"
     ]
    },
    {
     "name": "stderr",
     "output_type": "stream",
     "text": [
      "/home/dbernardo/.pyenv/versions/3.8.3/envs/eegres383/lib/python3.8/site-packages/lightgbm/engine.py:239: UserWarning: 'verbose_eval' argument is deprecated and will be removed in a future release of LightGBM. Pass 'log_evaluation()' callback via 'callbacks' argument instead.\n",
      "  _log_warning(\"'verbose_eval' argument is deprecated and will be removed in a future release of LightGBM. \"\n",
      "/home/dbernardo/.pyenv/versions/3.8.3/envs/eegres383/lib/python3.8/site-packages/lightgbm/engine.py:260: UserWarning: 'evals_result' argument is deprecated and will be removed in a future release of LightGBM. Pass 'record_evaluation()' callback via 'callbacks' argument instead.\n",
      "  _log_warning(\"'evals_result' argument is deprecated and will be removed in a future release of LightGBM. \"\n"
     ]
    },
    {
     "name": "stdout",
     "output_type": "stream",
     "text": [
      "[LightGBM] [Info] Number of positive: 69540, number of negative: 70770\n",
      "[LightGBM] [Warning] Auto-choosing col-wise multi-threading, the overhead of testing was 0.127061 seconds.\n",
      "You can set `force_col_wise=true` to remove the overhead.\n",
      "[LightGBM] [Info] Total Bins 32212\n",
      "[LightGBM] [Info] Number of data points in the train set: 140310, number of used features: 128\n",
      "[LightGBM] [Info] [binary:BoostFromScore]: pavg=0.495617 -> initscore=-0.017533\n",
      "[LightGBM] [Info] Start training from score -0.017533\n",
      "[100]\tvalid's binary_logloss: 1.2657\tvalid's auc: 0\n",
      "Fold 6 / 10\n"
     ]
    },
    {
     "name": "stderr",
     "output_type": "stream",
     "text": [
      "/home/dbernardo/.pyenv/versions/3.8.3/envs/eegres383/lib/python3.8/site-packages/lightgbm/engine.py:239: UserWarning: 'verbose_eval' argument is deprecated and will be removed in a future release of LightGBM. Pass 'log_evaluation()' callback via 'callbacks' argument instead.\n",
      "  _log_warning(\"'verbose_eval' argument is deprecated and will be removed in a future release of LightGBM. \"\n",
      "/home/dbernardo/.pyenv/versions/3.8.3/envs/eegres383/lib/python3.8/site-packages/lightgbm/engine.py:260: UserWarning: 'evals_result' argument is deprecated and will be removed in a future release of LightGBM. Pass 'record_evaluation()' callback via 'callbacks' argument instead.\n",
      "  _log_warning(\"'evals_result' argument is deprecated and will be removed in a future release of LightGBM. \"\n"
     ]
    },
    {
     "name": "stdout",
     "output_type": "stream",
     "text": [
      "[LightGBM] [Info] Number of positive: 58290, number of negative: 81360\n",
      "[LightGBM] [Warning] Auto-choosing col-wise multi-threading, the overhead of testing was 0.213064 seconds.\n",
      "You can set `force_col_wise=true` to remove the overhead.\n",
      "[LightGBM] [Info] Total Bins 32212\n",
      "[LightGBM] [Info] Number of data points in the train set: 139650, number of used features: 128\n",
      "[LightGBM] [Info] [binary:BoostFromScore]: pavg=0.417401 -> initscore=-0.333453\n",
      "[LightGBM] [Info] Start training from score -0.333453\n",
      "[100]\tvalid's binary_logloss: 2.5054\tvalid's auc: 0.50245\n",
      "Fold 7 / 10\n"
     ]
    },
    {
     "name": "stderr",
     "output_type": "stream",
     "text": [
      "/home/dbernardo/.pyenv/versions/3.8.3/envs/eegres383/lib/python3.8/site-packages/lightgbm/engine.py:239: UserWarning: 'verbose_eval' argument is deprecated and will be removed in a future release of LightGBM. Pass 'log_evaluation()' callback via 'callbacks' argument instead.\n",
      "  _log_warning(\"'verbose_eval' argument is deprecated and will be removed in a future release of LightGBM. \"\n",
      "/home/dbernardo/.pyenv/versions/3.8.3/envs/eegres383/lib/python3.8/site-packages/lightgbm/engine.py:260: UserWarning: 'evals_result' argument is deprecated and will be removed in a future release of LightGBM. Pass 'record_evaluation()' callback via 'callbacks' argument instead.\n",
      "  _log_warning(\"'evals_result' argument is deprecated and will be removed in a future release of LightGBM. \"\n"
     ]
    },
    {
     "name": "stdout",
     "output_type": "stream",
     "text": [
      "[LightGBM] [Info] Number of positive: 65070, number of negative: 79740\n",
      "[LightGBM] [Warning] Auto-choosing col-wise multi-threading, the overhead of testing was 0.211202 seconds.\n",
      "You can set `force_col_wise=true` to remove the overhead.\n",
      "[LightGBM] [Info] Total Bins 32212\n",
      "[LightGBM] [Info] Number of data points in the train set: 144810, number of used features: 128\n",
      "[LightGBM] [Info] [binary:BoostFromScore]: pavg=0.449347 -> initscore=-0.203308\n",
      "[LightGBM] [Info] Start training from score -0.203308\n",
      "[100]\tvalid's binary_logloss: 1.85706\tvalid's auc: 0.780993\n",
      "Fold 8 / 10\n"
     ]
    },
    {
     "name": "stderr",
     "output_type": "stream",
     "text": [
      "/home/dbernardo/.pyenv/versions/3.8.3/envs/eegres383/lib/python3.8/site-packages/lightgbm/engine.py:239: UserWarning: 'verbose_eval' argument is deprecated and will be removed in a future release of LightGBM. Pass 'log_evaluation()' callback via 'callbacks' argument instead.\n",
      "  _log_warning(\"'verbose_eval' argument is deprecated and will be removed in a future release of LightGBM. \"\n",
      "/home/dbernardo/.pyenv/versions/3.8.3/envs/eegres383/lib/python3.8/site-packages/lightgbm/engine.py:260: UserWarning: 'evals_result' argument is deprecated and will be removed in a future release of LightGBM. Pass 'record_evaluation()' callback via 'callbacks' argument instead.\n",
      "  _log_warning(\"'evals_result' argument is deprecated and will be removed in a future release of LightGBM. \"\n"
     ]
    },
    {
     "name": "stdout",
     "output_type": "stream",
     "text": [
      "[LightGBM] [Info] Number of positive: 68460, number of negative: 71790\n",
      "[LightGBM] [Warning] Auto-choosing col-wise multi-threading, the overhead of testing was 0.212906 seconds.\n",
      "You can set `force_col_wise=true` to remove the overhead.\n",
      "[LightGBM] [Info] Total Bins 32213\n",
      "[LightGBM] [Info] Number of data points in the train set: 140250, number of used features: 128\n",
      "[LightGBM] [Info] [binary:BoostFromScore]: pavg=0.488128 -> initscore=-0.047496\n",
      "[LightGBM] [Info] Start training from score -0.047496\n",
      "[100]\tvalid's binary_logloss: 0.00660978\tvalid's auc: 1\n",
      "Fold 9 / 10\n"
     ]
    },
    {
     "name": "stderr",
     "output_type": "stream",
     "text": [
      "/home/dbernardo/.pyenv/versions/3.8.3/envs/eegres383/lib/python3.8/site-packages/lightgbm/engine.py:239: UserWarning: 'verbose_eval' argument is deprecated and will be removed in a future release of LightGBM. Pass 'log_evaluation()' callback via 'callbacks' argument instead.\n",
      "  _log_warning(\"'verbose_eval' argument is deprecated and will be removed in a future release of LightGBM. \"\n",
      "/home/dbernardo/.pyenv/versions/3.8.3/envs/eegres383/lib/python3.8/site-packages/lightgbm/engine.py:260: UserWarning: 'evals_result' argument is deprecated and will be removed in a future release of LightGBM. Pass 'record_evaluation()' callback via 'callbacks' argument instead.\n",
      "  _log_warning(\"'evals_result' argument is deprecated and will be removed in a future release of LightGBM. \"\n"
     ]
    },
    {
     "name": "stdout",
     "output_type": "stream",
     "text": [
      "[LightGBM] [Info] Number of positive: 62460, number of negative: 78090\n",
      "[LightGBM] [Warning] Auto-choosing col-wise multi-threading, the overhead of testing was 0.215991 seconds.\n",
      "You can set `force_col_wise=true` to remove the overhead.\n",
      "[LightGBM] [Info] Total Bins 32215\n",
      "[LightGBM] [Info] Number of data points in the train set: 140550, number of used features: 128\n",
      "[LightGBM] [Info] [binary:BoostFromScore]: pavg=0.444397 -> initscore=-0.223336\n",
      "[LightGBM] [Info] Start training from score -0.223336\n",
      "[100]\tvalid's binary_logloss: 0.00919896\tvalid's auc: 1\n",
      "Fold 10 / 10\n"
     ]
    },
    {
     "name": "stderr",
     "output_type": "stream",
     "text": [
      "/home/dbernardo/.pyenv/versions/3.8.3/envs/eegres383/lib/python3.8/site-packages/lightgbm/engine.py:239: UserWarning: 'verbose_eval' argument is deprecated and will be removed in a future release of LightGBM. Pass 'log_evaluation()' callback via 'callbacks' argument instead.\n",
      "  _log_warning(\"'verbose_eval' argument is deprecated and will be removed in a future release of LightGBM. \"\n",
      "/home/dbernardo/.pyenv/versions/3.8.3/envs/eegres383/lib/python3.8/site-packages/lightgbm/engine.py:260: UserWarning: 'evals_result' argument is deprecated and will be removed in a future release of LightGBM. Pass 'record_evaluation()' callback via 'callbacks' argument instead.\n",
      "  _log_warning(\"'evals_result' argument is deprecated and will be removed in a future release of LightGBM. \"\n"
     ]
    },
    {
     "name": "stdout",
     "output_type": "stream",
     "text": [
      "[LightGBM] [Info] Number of positive: 63150, number of negative: 77790\n",
      "[LightGBM] [Warning] Auto-choosing col-wise multi-threading, the overhead of testing was 0.199179 seconds.\n",
      "You can set `force_col_wise=true` to remove the overhead.\n",
      "[LightGBM] [Info] Total Bins 32214\n",
      "[LightGBM] [Info] Number of data points in the train set: 140940, number of used features: 128\n",
      "[LightGBM] [Info] [binary:BoostFromScore]: pavg=0.448063 -> initscore=-0.208500\n",
      "[LightGBM] [Info] Start training from score -0.208500\n",
      "[100]\tvalid's binary_logloss: 0.00585021\tvalid's auc: 1\n"
     ]
    }
   ],
   "source": [
    "n_folds = 10\n",
    "skfold = StratifiedKFold(n_splits=n_folds, shuffle=True, random_state=42)\n",
    "\n",
    "# Get unique subjects in the data\n",
    "unique_subjects = train_data_df[\"Subject\"].unique()\n",
    "\n",
    "val_scores = []\n",
    "for fold_id, (train_ids, valid_ids) in enumerate(skfold.split(unique_subjects, subj_classes)):\n",
    "    # Get the subject IDs for the train and validation sets\n",
    "    train_subjects = unique_subjects[train_ids]\n",
    "    valid_subjects = unique_subjects[valid_ids]\n",
    "    \n",
    "    # Split the data and annotations based on the subject IDs\n",
    "    train_data = train_data_df[train_data_df[\"Subject\"].isin(train_subjects)]\n",
    "    valid_data = train_data_df[train_data_df[\"Subject\"].isin(valid_subjects)]\n",
    "    train_ann = train_ann_df[train_ann_df[\"Subject\"].isin(train_subjects)]\n",
    "    valid_ann = train_ann_df[train_ann_df[\"Subject\"].isin(valid_subjects)]\n",
    "\n",
    "    train_data = train_data.drop(['Subject'], axis=1)\n",
    "    valid_data = valid_data.drop(['Subject'], axis=1)\n",
    "\n",
    "    print(\"Fold %d / %d\" % (fold_id + 1, n_folds))\n",
    "\n",
    "    lgb_train = lgb.Dataset(train_data, train_ann['Class'])\n",
    "    lgb_valid  = lgb.Dataset(valid_data, valid_ann['Class'])\n",
    "    \n",
    "    res = {}\n",
    "    \n",
    "    gbm = lgb.train(params, lgb_train, num_boost_round=100, \n",
    "                    valid_sets=[lgb_valid], valid_names=['valid'],\n",
    "                    evals_result=res, verbose_eval=100)\n",
    "    \n",
    "    val_scores.append(res['valid']['auc'][-1])"
   ]
  },
  {
   "cell_type": "code",
   "execution_count": 279,
   "metadata": {},
   "outputs": [],
   "source": [
    "train_ann = train_ann_df[train_ann_df[\"Subject\"].isin(train_subjects)]"
   ]
  },
  {
   "cell_type": "code",
   "execution_count": 284,
   "metadata": {},
   "outputs": [
    {
     "name": "stdout",
     "output_type": "stream",
     "text": [
      "avg_val_score: 0.769132\n"
     ]
    }
   ],
   "source": [
    "print(\"avg_val_score: %4f\" % (np.mean(val_scores)))"
   ]
  },
  {
   "cell_type": "code",
   "execution_count": null,
   "metadata": {},
   "outputs": [],
   "source": [
    "# Iterate through kfolds\n",
    "all_shap_v = []\n",
    "all_Xv = []\n",
    "all_subjs = []\n",
    "all_yp = []\n",
    "all_yv = []\n",
    "all_ictal = []\n",
    "kfolds_dir = 'kfolds_all_noTD_cork_huh_ucsf'\n",
    "\n",
    "\n",
    "for kf in range(10):\n",
    "    print('#####', kf)\n",
    "    Xv_lst, yp_lst, yv_lst, y_test_ictal_lst, subj_lst, raw_data_cols, curr_shaps = run_kf(kfold=kf, kfolds_dir=kfolds_dir)\n",
    "    \n",
    "\n",
    "    raw_data_cols_plusArt = raw_data_cols + ['artifact_score']\n",
    "    Xv_df = pd.DataFrame(data=Xv_lst, columns=raw_data_cols_plusArt)\n",
    "    Xv_df = Xv_df.fillna(0)\n",
    "    all_Xv.append(Xv_df)\n",
    "\n",
    "    all_shap_v.append(curr_shaps)\n",
    "    all_subjs.append(subj_lst)\n",
    "    all_yp.append(yp_lst)\n",
    "    all_yv.append(yv_lst)\n",
    "    all_ictal.append(y_test_ictal_lst)\n",
    "    "
   ]
  },
  {
   "cell_type": "code",
   "execution_count": null,
   "metadata": {},
   "outputs": [],
   "source": []
  },
  {
   "cell_type": "code",
   "execution_count": 19,
   "metadata": {},
   "outputs": [
    {
     "data": {
      "text/plain": [
       "(70, 30, 21, 6)"
      ]
     },
     "execution_count": 19,
     "metadata": {},
     "output_type": "execute_result"
    }
   ],
   "source": [
    "temp_features[0].shape"
   ]
  },
  {
   "cell_type": "code",
   "execution_count": null,
   "metadata": {},
   "outputs": [],
   "source": []
  },
  {
   "cell_type": "code",
   "execution_count": null,
   "metadata": {},
   "outputs": [],
   "source": []
  }
 ],
 "metadata": {
  "kernelspec": {
   "display_name": "Python 3",
   "language": "python",
   "name": "python3"
  },
  "language_info": {
   "codemirror_mode": {
    "name": "ipython",
    "version": 3
   },
   "file_extension": ".py",
   "mimetype": "text/x-python",
   "name": "python",
   "nbconvert_exporter": "python",
   "pygments_lexer": "ipython3",
   "version": "3.8.3"
  }
 },
 "nbformat": 4,
 "nbformat_minor": 1
}
